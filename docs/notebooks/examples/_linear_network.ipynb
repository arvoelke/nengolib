{
 "metadata": {
  "kernelspec": {
   "display_name": "Python 2",
   "language": "python",
   "name": "python2"
  },
  "language_info": {
   "codemirror_mode": {
    "name": "ipython",
    "version": 2
   },
   "file_extension": ".py",
   "mimetype": "text/x-python",
   "name": "python",
   "nbconvert_exporter": "python",
   "pygments_lexer": "ipython2",
   "version": "2.7.3"
  },
  "name": "",
  "signature": "sha256:dbe50cd3558a7c8a60bf1cf62b234917b426292c4fc532368a56ba1a54022a8e"
 },
 "nbformat": 3,
 "nbformat_minor": 0,
 "worksheets": [
  {
   "cells": [
    {
     "cell_type": "markdown",
     "metadata": {},
     "source": [
      "# Linear Network\n",
      "\n",
      "The `nengolib.LinearNetwork` class is a `nengo` network that abstracts away many of the details of Principle 3 from the NEF. Simply supply a `LinearSystem` that you would like to simulate, and the network will map its dynamics onto a recurrently connected ensemble using a given `synapse`. This can be understood equivalently as convolving a causal filter with some arbitrary input signal. \n",
      "\n",
      "### Delay Example\n",
      "\n",
      "For example, the `nengolib.synapses.PadeDelay` is a linear system that we can build into a biologically plausible population of neurons to delay an input signal by some fixed amount of time."
     ]
    },
    {
     "cell_type": "code",
     "collapsed": false,
     "input": [
      "%pylab inline\n",
      "import pylab\n",
      "try:\n",
      "    import seaborn as sns  # optional; prettier graphs\n",
      "except ImportError:\n",
      "    pass\n",
      "\n",
      "import numpy as np\n",
      "import nengo\n",
      "import nengolib\n",
      "from nengolib.synapses import PadeDelay\n",
      "\n",
      "delay = 0.1\n",
      "T = 2.0\n",
      "dt = 0.001\n",
      "\n",
      "with nengolib.Network() as model:\n",
      "    stim = nengo.Node(output=nengo.processes.WhiteSignal(T, high=8))\n",
      "    \n",
      "    # Build a LinearNetwork that approximations a delay\n",
      "    subnet = nengolib.networks.LinearNetwork(\n",
      "        PadeDelay(delay, order=4), n_neurons_per_ensemble=200, synapse=0.02,\n",
      "        radii=1.0, dt=dt, output_synapse=0.02)\n",
      "    nengo.Connection(stim, subnet.input, synapse=None)\n",
      "\n",
      "    # Add some probes\n",
      "    p = nengo.Probe(subnet.output)\n",
      "    p_stim = nengo.Probe(stim)\n",
      "    \n",
      "sim = nengo.Simulator(model, dt=dt)\n",
      "sim.run(T)"
     ],
     "language": "python",
     "metadata": {},
     "outputs": [],
     "prompt_number": null
    },
    {
     "cell_type": "markdown",
     "metadata": {},
     "source": [
      "And we can visualize the difference between the ideal shifted input and the actual output of the network to see how accurately it performs. "
     ]
    },
    {
     "cell_type": "code",
     "collapsed": false,
     "input": [
      "offset = int(delay / dt + 1)\n",
      "\n",
      "pylab.figure()\n",
      "pylab.title('Delayed Input Signal')\n",
      "pylab.plot(sim.trange()[offset:], sim.data[p][offset:], label=\"Actual\")\n",
      "pylab.plot(sim.trange()[offset:], sim.data[p_stim][:-offset], label=\"Expected\")\n",
      "pylab.legend()\n",
      "pylab.xlabel('Time (s)')\n",
      "pylab.show()"
     ],
     "language": "python",
     "metadata": {},
     "outputs": [],
     "prompt_number": null
    },
    {
     "cell_type": "markdown",
     "metadata": {},
     "source": [
      "### Setting Radii\n",
      "\n",
      "One of the most subtle but difficult aspects of building these networks is making sure that the representational range that the neurons are optimized over (the eval points and the radius in Nengo), matches the states that the network will actually visit.\n",
      "\n",
      "Crucially, this depends on how characteristics of the input signal relate to the given dynamics. By default, the `LinearNetwork` class plans for the worst-case input within the given radius, and accordingly plays safe by over-estimating the range of states that the neurons should represent.\n",
      "\n",
      "If we have more information about the problem, say by having looked at the responses of the states for typical inputs, we may use that to shrink the radii."
     ]
    },
    {
     "cell_type": "code",
     "collapsed": false,
     "input": [
      "with model:\n",
      "    p_x = nengo.Probe(subnet.state.output, synapse=0.01)\n",
      "\n",
      "sim = nengo.Simulator(model, dt=dt)\n",
      "sim.run(T)\n",
      "\n",
      "pylab.figure()\n",
      "pylab.title('States')\n",
      "pylab.plot(sim.trange(), sim.data[p_x])\n",
      "pylab.xlabel('Time (s)')\n",
      "pylab.show()\n",
      "\n",
      "radii = np.max(abs(sim.data[p_x]), axis=0)\n",
      "print(\"Radii: {0}\".format(radii))"
     ],
     "language": "python",
     "metadata": {},
     "outputs": [],
     "prompt_number": null
    },
    {
     "cell_type": "markdown",
     "metadata": {},
     "source": [
      "More information on setting radii will be added here in the future, as well as simulating networks with other synapses on both analog and digital hardware."
     ]
    },
    {
     "cell_type": "markdown",
     "metadata": {
      "collapsed": true
     },
     "source": [
      "### Input and Output Filtering\n",
      "\n",
      "By default the network will not filter the input or output signal. But an LTI normally filters the input signal, which you can do by specifying the same `input_synapse`. By linearity this is equivalent to filtering the output, which you can also specify through the `output_synapse`. Note that even though the output is equivalent between these two options, the resulting state-space is not. Therefore depending on the frequency of the input signal, you may need to reconsider the radius when switching between these options.\n",
      "\n",
      "Note that since some systems will have a passthrough (`D != 0`), you should default to never filtering the connections to/from the input/output nodes. You should always try to pass the filters to the `LinearSystem`, which will apply the filter without the passthrough for you. If the system does not have a passthrough, then it doesn't matter where the remaining filter goes (as long as it only appears once on either the input or the output)."
     ]
    },
    {
     "cell_type": "code",
     "collapsed": true,
     "input": [],
     "language": "python",
     "metadata": {},
     "outputs": [],
     "prompt_number": null
    }
   ],
   "metadata": {}
  }
 ]
}