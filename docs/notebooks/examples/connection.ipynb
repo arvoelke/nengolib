{
 "metadata": {
  "kernelspec": {
   "display_name": "Python 2",
   "language": "python",
   "name": "python2"
  },
  "language_info": {
   "codemirror_mode": {
    "name": "ipython",
    "version": 2
   },
   "file_extension": ".py",
   "mimetype": "text/x-python",
   "name": "python",
   "nbconvert_exporter": "python",
   "pygments_lexer": "ipython2",
   "version": "2.7.3"
  },
  "name": "",
  "signature": "sha256:4891ca9bfa224aa61eec005efd81c78e752f76a4010d5af62294ffdfca4cca9f"
 },
 "nbformat": 3,
 "nbformat_minor": 0,
 "worksheets": [
  {
   "cells": [
    {
     "cell_type": "markdown",
     "metadata": {},
     "source": [
      "# Connection Improvements\n",
      "\n",
      "The class **`nengolib.Connection()`** is a replacement for **`nengo.Connection()`**. This new class adds a bias activity to the pre-synaptic population. This is equivalent to adding a neuron with a flat tuning curve across the entire range of represented values. This is also equivalent to a change in the biases of the post-synaptic population.\n",
      "\n",
      "This improves the decoding of any function on average, provided the regularization is set correctly on the decoder solver. The improvement is most significant for small numbers of neurons (as demonstrated below) and for constant functions. "
     ]
    },
    {
     "cell_type": "code",
     "collapsed": false,
     "input": [
      "%pylab inline\n",
      "import pylab\n",
      "try:\n",
      "    import seaborn as sns  # optional; prettier graphs\n",
      "except ImportError:\n",
      "    pass\n",
      "\n",
      "import numpy as np\n",
      "\n",
      "import nengo\n",
      "from nengo.utils.numpy import rmse\n",
      "\n",
      "import nengolib"
     ],
     "language": "python",
     "metadata": {},
     "outputs": [],
     "prompt_number": null
    },
    {
     "cell_type": "code",
     "collapsed": false,
     "input": [
      "solver = nengo.solvers.LstsqL2(reg=0.1)\n",
      "\n",
      "trials = []\n",
      "for _ in range(50):\n",
      "\n",
      "    with nengolib.Network() as model:\n",
      "        stim = nengo.Node(output=lambda t: np.sin(5*t*2*np.pi))\n",
      "        x = nengo.Ensemble(5, 1, neuron_type=nengo.LIFRate())\n",
      "        default = nengo.Node(size_in=1)\n",
      "        improved = nengo.Node(size_in=1)\n",
      "\n",
      "        nengo.Connection(stim, x, synapse=None)\n",
      "        nengo.Connection(x, default, solver=solver)\n",
      "        nengolib.Connection(x, improved, solver=solver)\n",
      "\n",
      "        p_default = nengo.Probe(default)\n",
      "        p_improved = nengo.Probe(improved)\n",
      "        p_stim = nengo.Probe(stim, synapse=0.005)\n",
      "\n",
      "    with nengo.Simulator(model) as sim:\n",
      "        sim.run(0.5, progress_bar=False)\n",
      "\n",
      "    trials.append(rmse(\n",
      "        sim.data[p_default], sim.data[p_stim]) - rmse(sim.data[p_improved], sim.data[p_stim]))\n",
      "\n",
      "pylab.figure()\n",
      "pylab.title(\"Improvement\")\n",
      "pylab.hist(np.asarray(trials))\n",
      "pylab.xlabel(\"Decrease in RMSE\")\n",
      "pylab.ylabel(\"Density\")\n",
      "pylab.show()"
     ],
     "language": "python",
     "metadata": {},
     "outputs": [],
     "prompt_number": null
    },
    {
     "cell_type": "code",
     "collapsed": true,
     "input": [],
     "language": "python",
     "metadata": {},
     "outputs": [],
     "prompt_number": null
    }
   ],
   "metadata": {}
  }
 ]
}