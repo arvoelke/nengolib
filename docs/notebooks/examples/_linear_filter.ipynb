{
 "metadata": {
  "kernelspec": {
   "display_name": "Python 2",
   "language": "python",
   "name": "python2"
  },
  "language_info": {
   "codemirror_mode": {
    "name": "ipython",
    "version": 2
   },
   "file_extension": ".py",
   "mimetype": "text/x-python",
   "name": "python",
   "nbconvert_exporter": "python",
   "pygments_lexer": "ipython2",
   "version": "2.7.3"
  },
  "name": "",
  "signature": "sha256:94d1974f3d00f7b82e1520511b0aa69fe19be4333a487877a7c3fa1f4f5fbc52"
 },
 "nbformat": 3,
 "nbformat_minor": 0,
 "worksheets": [
  {
   "cells": [
    {
     "cell_type": "markdown",
     "metadata": {},
     "source": [
      "# Linear Filter Improvements\n",
      "\n",
      "The class **`nengolib.LinearFilter()`** is an improved implementation of, and a drop-in replacement for, **`nengo.LinearFilter()`**. This `Synapse` object is much more efficient when the order of the transfer function is greater than 2."
     ]
    },
    {
     "cell_type": "code",
     "collapsed": true,
     "input": [
      "import numpy as np\n",
      "\n",
      "import nengo\n",
      "import nengolib\n",
      "\n",
      "def make_runner(synapse, n_neurons, dims, t):\n",
      "    with nengolib.Network() as model:\n",
      "        stim = nengo.Node(output=lambda t: np.sin(t*np.ones(dims)))\n",
      "        x = nengo.Ensemble(n_neurons, dims)\n",
      "        nengo.Connection(stim, x, synapse=synapse)\n",
      "        sim = nengo.Simulator(model)\n",
      "        return lambda: sim.run(t, progress_bar=False)"
     ],
     "language": "python",
     "metadata": {},
     "outputs": []
    },
    {
     "cell_type": "markdown",
     "metadata": {},
     "source": [
      "The following test compares both implementations when connecting a node to a 2D-ensemble of 100 neurons using a 10th order synapse. We see that the overall runtime of a simulation can be significantly reduced with this change in synapse object."
     ]
    },
    {
     "cell_type": "code",
     "collapsed": false,
     "input": [
      "from timeit import Timer\n",
      "\n",
      "order = 10\n",
      "n_neurons = 100\n",
      "dims = 2\n",
      "t = 0.05\n",
      "trials = 500\n",
      "\n",
      "x = np.zeros(order)\n",
      "x[0] = 1.0\n",
      "    \n",
      "for synapse in (nengo.LinearFilter(x, x), nengolib.signal.LinearSystem((x, x))):\n",
      "    stmt = make_runner(synapse, n_neurons, dims, t)\n",
      "    print(\"Synapse: %s, Time: %.3fs\" % (type(synapse).__name__, Timer(stmt).timeit(trials)))"
     ],
     "language": "python",
     "metadata": {},
     "outputs": []
    },
    {
     "cell_type": "code",
     "collapsed": true,
     "input": [],
     "language": "python",
     "metadata": {},
     "outputs": []
    }
   ],
   "metadata": {}
  }
 ]
}