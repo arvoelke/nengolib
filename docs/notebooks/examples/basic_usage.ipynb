{
 "cells": [
  {
   "cell_type": "markdown",
   "metadata": {},
   "source": [
    "# Basic Usage\n",
    "\n",
    "In order to improve your Nengo model, the most basic thing you can try is to simply insert the following code at the top of your file:\n",
    "\n",
    "**```\n",
    "import nengolib; nengolib.patch()\n",
    "```**"
   ]
  },
  {
   "cell_type": "markdown",
   "metadata": {},
   "source": [
    "This will automatically improve:\n",
    " - encoders\n",
    " - spiking LIF model (prior to `Nengo 2.1.1`)\n",
    " - evaluation points\n",
    " - decoders (using a constant bias)\n",
    " \n",
    "Usually this only makes a difference for difficult representations involving small numbers of neurons and/or high dimensionality.\n",
    " \n",
    "See `doc/notebooks/examples/network.ipynb` and `doc/notebooks/examples/connection.ipynb` for details.\n",
    " \n",
    "These benefits are demonstrated below by building a communication channel for a vector."
   ]
  },
  {
   "cell_type": "code",
   "execution_count": null,
   "metadata": {},
   "outputs": [],
   "source": [
    "%pylab inline\n",
    "import pylab\n",
    "try:\n",
    "    import seaborn as sns  # optional; prettier graphs\n",
    "except ImportError:\n",
    "    pass\n",
    "\n",
    "import numpy as np\n",
    "\n",
    "import nengo\n",
    "from nengo.utils.numpy import rmse"
   ]
  },
  {
   "cell_type": "code",
   "execution_count": null,
   "metadata": {},
   "outputs": [],
   "source": [
    "def trial(n=100, d=16, T=0.05):\n",
    "    with nengo.Network() as model:\n",
    "        stim = nengo.Node(output=lambda _: np.squeeze(\n",
    "            nengo.dists.UniformHypersphere(surface=True).sample(d, 1)))\n",
    "        \n",
    "        x = nengo.Ensemble(n, d, neuron_type=nengo.LIFRate())\n",
    "        output = nengo.Node(size_in=d)\n",
    "                                 \n",
    "        nengo.Connection(stim, x, synapse=None)\n",
    "        nengo.Connection(x, output, synapse=None)\n",
    "        \n",
    "        p_stim = nengo.Probe(stim)\n",
    "        p_output = nengo.Probe(output)\n",
    "        \n",
    "    with nengo.Simulator(model, progress_bar=False) as sim:\n",
    "        sim.run(T, progress_bar=False)\n",
    "        \n",
    "    return np.mean(rmse(sim.data[p_stim], sim.data[p_output], axis=1))"
   ]
  },
  {
   "cell_type": "code",
   "execution_count": null,
   "metadata": {},
   "outputs": [],
   "source": [
    "def experiment(num_trials=10, *args, **kwargs):\n",
    "    trials = []\n",
    "    for _ in range(num_trials):\n",
    "        trials.append(trial(*args, **kwargs))\n",
    "        \n",
    "    return trials\n",
    "\n",
    "default = experiment()"
   ]
  },
  {
   "cell_type": "markdown",
   "metadata": {},
   "source": [
    "This experiment returns the RMSE from a number of random trials.\n",
    "\n",
    "Now we import nengolib, monkey-patch the classes, and re-run the experiment. "
   ]
  },
  {
   "cell_type": "code",
   "execution_count": null,
   "metadata": {},
   "outputs": [],
   "source": [
    "import nengolib; nengolib.patch()\n",
    "\n",
    "improved = experiment()\n",
    "\n",
    "nengolib.unpatch()  # reset back to normal"
   ]
  },
  {
   "cell_type": "code",
   "execution_count": null,
   "metadata": {},
   "outputs": [],
   "source": [
    "pylab.figure()\n",
    "pylab.title(\"Comparison of Models (%.1f%%)\" % (100 * np.mean(default) / np.mean(improved)))\n",
    "pylab.boxplot([default, improved])\n",
    "pylab.xticks([1, 2], ['Default', 'Improved'])\n",
    "pylab.ylabel(\"RMSE\")\n",
    "pylab.show()"
   ]
  },
  {
   "cell_type": "markdown",
   "metadata": {},
   "source": [
    "We see that there is a slight improvement in the mean (roughly 1-2%), and more importantly a significant reduction in the variance.\n",
    "\n",
    "These differences become negligible / invisible as the number of neurons is increased relative to the dimensionality, and depending on the demands of the particular model -- so no promises, but it's worth the try!"
   ]
  },
  {
   "cell_type": "code",
   "execution_count": null,
   "metadata": {},
   "outputs": [],
   "source": []
  }
 ],
 "metadata": {
  "kernelspec": {
   "display_name": "Python 2",
   "language": "python",
   "name": "python2"
  },
  "language_info": {
   "codemirror_mode": {
    "name": "ipython",
    "version": 2
   },
   "file_extension": ".py",
   "mimetype": "text/x-python",
   "name": "python",
   "nbconvert_exporter": "python",
   "pygments_lexer": "ipython2",
   "version": "2.7.14"
  }
 },
 "nbformat": 4,
 "nbformat_minor": 1
}
