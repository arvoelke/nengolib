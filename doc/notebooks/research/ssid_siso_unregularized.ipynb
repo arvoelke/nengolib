{
 "cells": [
  {
   "cell_type": "markdown",
   "metadata": {},
   "source": [
    "# Discrete SISO Identification using Unregularized Least Squares"
   ]
  },
  {
   "cell_type": "code",
   "execution_count": null,
   "metadata": {
    "collapsed": false
   },
   "outputs": [],
   "source": [
    "%pylab inline\n",
    "import numpy as np\n",
    "import pylab\n",
    "try:\n",
    "    import seaborn as sns  # optional; prettier graphs\n",
    "except ImportError:\n",
    "    pass\n",
    "\n",
    "from scipy.signal import lfilter\n",
    "from nengo.solvers import Lstsq\n",
    "from nengo.utils.numpy import rmse\n",
    "\n",
    "import nengolib"
   ]
  },
  {
   "cell_type": "markdown",
   "metadata": {},
   "source": [
    "Create an arbitrary system (here, an Alpha synapse) and discretize it. "
   ]
  },
  {
   "cell_type": "code",
   "execution_count": null,
   "metadata": {
    "collapsed": false
   },
   "outputs": [],
   "source": [
    "sys = nengolib.Alpha(0.005)\n",
    "dsys = nengolib.signal.cont2discrete(sys, dt=0.001)\n",
    "n_num, n_den = dsys.order_num, dsys.order_den\n",
    "num, den = dsys.num, dsys.den"
   ]
  },
  {
   "cell_type": "markdown",
   "metadata": {},
   "source": [
    "Filter some white-noise input $u[k]$ with this system to get an output $y[k]$. Our goal is to estimate the discrete SISO transfer function with order ($n_{num}$ / $n_{den}$) given only access to $(u, y)$."
   ]
  },
  {
   "cell_type": "code",
   "execution_count": null,
   "metadata": {
    "collapsed": false
   },
   "outputs": [],
   "source": [
    "u = np.random.normal(size=500)\n",
    "y = lfilter(dsys.num, dsys.den, u)\n",
    "\n",
    "pylab.figure()\n",
    "pylab.plot(u)\n",
    "pylab.plot(y)\n",
    "pylab.show()"
   ]
  },
  {
   "cell_type": "markdown",
   "metadata": {},
   "source": [
    "This can be formulated as a least-squares problem $A\\theta = Y$ using the [linear difference equation](https://en.wikipedia.org/wiki/Z-transform#Linear_constant-coefficient_difference_equation) form of the discrete transfer function (see [1] for extra details). Here, $A$ is given by appropriately time-shifting the $(u, y)$ data, $Y$ is the desired result from shifting $y$, and $\\theta$ are the combined transfer function parameters that we are to estimate."
   ]
  },
  {
   "cell_type": "code",
   "execution_count": null,
   "metadata": {
    "collapsed": false
   },
   "outputs": [],
   "source": [
    "n = len(u) - n_den\n",
    "\n",
    "A = np.empty((n, n_num+1+n_den))\n",
    "for i in range(n_num+1):\n",
    "    A[:, i] = u[n_den-i:n_den-i+n]\n",
    "for i in range(n_den):\n",
    "    A[:, n_num+1+i] = -y[n_den-1-i:n_den-1-i+n]\n",
    "    \n",
    "Y = y[n_den:n_den+n]"
   ]
  },
  {
   "cell_type": "markdown",
   "metadata": {},
   "source": [
    "First, we verify that the true transfer function gives the ideal $\\theta$ such that $A\\theta = Y$. "
   ]
  },
  {
   "cell_type": "code",
   "execution_count": null,
   "metadata": {
    "collapsed": false
   },
   "outputs": [],
   "source": [
    "assert np.allclose(den[n_den], 1)\n",
    "theta = np.append(num, np.asarray(den)[1:])  # discard leading 1\n",
    "\n",
    "def check_tf(theta):\n",
    "    pylab.figure()\n",
    "    pylab.plot(np.dot(A, theta))\n",
    "    pylab.plot(Y)\n",
    "    pylab.show()\n",
    "    return rmse(np.dot(A, theta), Y)\n",
    "    \n",
    "print theta, check_tf(theta)"
   ]
  },
  {
   "cell_type": "markdown",
   "metadata": {},
   "source": [
    "Now, we use a least-squares solver to get an estimate $\\hat{\\theta}$, and check that $A\\hat{\\theta} \\approx Y$. In fact, we get back the same transfer function within machine-epsilon, due to the absence of any noise in the problem."
   ]
  },
  {
   "cell_type": "code",
   "execution_count": null,
   "metadata": {
    "collapsed": false
   },
   "outputs": [],
   "source": [
    "theta_est, _ = Lstsq()(A, Y)\n",
    "print theta_est, check_tf(theta_est)\n",
    "assert np.allclose(theta, theta_est)"
   ]
  },
  {
   "cell_type": "markdown",
   "metadata": {},
   "source": [
    "Finally, this can be converted back into a transfer function, and used to simulate the same $y$."
   ]
  },
  {
   "cell_type": "code",
   "execution_count": null,
   "metadata": {
    "collapsed": false
   },
   "outputs": [],
   "source": [
    "num_est = theta_est[:n_num+1]\n",
    "den_est = np.append([1], theta_est[n_num+1:])\n",
    "\n",
    "y_est = lfilter(num_est, den_est, u)\n",
    "\n",
    "pylab.figure()\n",
    "pylab.plot(y)\n",
    "pylab.plot(y_est)\n",
    "pylab.show()\n",
    "\n",
    "assert np.allclose(y, y_est)"
   ]
  },
  {
   "cell_type": "markdown",
   "metadata": {
    "collapsed": true
   },
   "source": [
    "### References \n",
    "\n",
    "[1] Ljung, Lennart, and Tianshi Chen. \"What can regularization offer for estimation of dynamical systems?.\" *11th IFAC International Workshop on Adaptation and Learning in Control and Signal Processing (ALCOSP13), 3-5 July 2013, Caen, France*. IFAC, 2013."
   ]
  },
  {
   "cell_type": "code",
   "execution_count": null,
   "metadata": {
    "collapsed": true
   },
   "outputs": [],
   "source": []
  }
 ],
 "metadata": {
  "kernelspec": {
   "display_name": "Python 2",
   "language": "python",
   "name": "python2"
  },
  "language_info": {
   "codemirror_mode": {
    "name": "ipython",
    "version": 2
   },
   "file_extension": ".py",
   "mimetype": "text/x-python",
   "name": "python",
   "nbconvert_exporter": "python",
   "pygments_lexer": "ipython2",
   "version": "2.7.3"
  }
 },
 "nbformat": 4,
 "nbformat_minor": 0
}
