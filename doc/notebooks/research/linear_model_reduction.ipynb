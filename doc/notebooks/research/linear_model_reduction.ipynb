{
 "cells": [
  {
   "cell_type": "markdown",
   "metadata": {},
   "source": [
    "# Linear System Model Reduction"
   ]
  },
  {
   "cell_type": "code",
   "execution_count": null,
   "metadata": {
    "collapsed": false
   },
   "outputs": [],
   "source": [
    "%pylab inline\n",
    "import numpy as np\n",
    "import pylab\n",
    "try:\n",
    "    import seaborn as sns  # optional; prettier graphs\n",
    "except ImportError:\n",
    "    pass\n",
    "\n",
    "from scipy.linalg import solve_lyapunov, cholesky, svd, inv\n",
    "from nengo.utils.numpy import rmse\n",
    "\n",
    "import nengolib"
   ]
  },
  {
   "cell_type": "markdown",
   "metadata": {},
   "source": [
    "### Problem Statement\n",
    "\n",
    "Suppose we have some linear system. We'd like to reduce its order while maintaining as much of its characteristics as possible. Take, for example, a lowpass filter that has a small amount of 3rd-order dynamics mixed in, resulting in a 4th-order system that consists mostly of first-order dynamics."
   ]
  },
  {
   "cell_type": "code",
   "execution_count": null,
   "metadata": {
    "collapsed": true
   },
   "outputs": [],
   "source": [
    "isys = nengolib.Lowpass(0.05)\n",
    "noise = 0.5*nengolib.Lowpass(0.01) + 0.5*nengolib.Alpha(0.005)\n",
    "p = 0.8\n",
    "sys = p*isys + (1-p)*noise"
   ]
  },
  {
   "cell_type": "markdown",
   "metadata": {},
   "source": [
    "### Exact Minimal Realizations\n",
    "\n",
    "By cancelling repeated zeros and poles from a system, we can obtain an exact version of that same system with potentially reduced order. However, for the above system, there are no poles to be cancelled, and so this does not help to reduce the order. "
   ]
  },
  {
   "cell_type": "code",
   "execution_count": null,
   "metadata": {
    "collapsed": false
   },
   "outputs": [],
   "source": [
    "assert nengolib.signal.minreal(isys/isys) == nengolib.signal.LinearSystem(1)\n",
    "\n",
    "minsys = nengolib.signal.minreal(sys)\n",
    "assert minsys == sys"
   ]
  },
  {
   "cell_type": "markdown",
   "metadata": {},
   "source": [
    "As a crude way of getting around this problem, we can raise the tolerance for detecting similar poles/zeros until repeats are found. By setting the tolerance appropriately for this example, we can reduce the model to a first-order filter, with a surprisingly similar response. However, as we will soon see further down, we can do even better."
   ]
  },
  {
   "cell_type": "code",
   "execution_count": null,
   "metadata": {
    "collapsed": false
   },
   "outputs": [],
   "source": [
    "minsys_crude = nengolib.signal.minreal(sys, tol=300.0)\n",
    "assert minsys_crude.order_den == 1\n",
    "\n",
    "def test_sys(u, redsys, dt=0.001):\n",
    "    orig = nengolib.signal.apply_filter(u, sys, dt=dt)\n",
    "    red = nengolib.signal.apply_filter(u, redsys, dt=dt)\n",
    "    \n",
    "    pylab.figure()\n",
    "    pylab.title(\"(RMSE: %s)\" % rmse(orig, red))\n",
    "    pylab.plot(orig, label=\"Original\")\n",
    "    pylab.plot(red, label=\"Reduced\")\n",
    "    pylab.legend()\n",
    "    pylab.show()\n",
    "\n",
    "rng = np.random.RandomState(0)\n",
    "white = rng.normal(size=100)\n",
    "test_sys(white, minsys_crude)"
   ]
  },
  {
   "cell_type": "markdown",
   "metadata": {},
   "source": [
    "### Balanced Realizations\n",
    "\n",
    "First we need to compute some special matrices from Lyapunov theory.\n",
    "\n",
    "The \"controllability gramian\" (a.k.a. \"reachability gramian\" for linear systems) $P$ satisfies: \n",
    "\n",
    "$$AP + PA' = -BB'$$\n",
    "\n",
    "The \"observability gramian\" $Q$ satisfies:\n",
    "\n",
    "$$A'Q + QA = -C'C$$\n",
    "\n",
    "See [2] for more background information."
   ]
  },
  {
   "cell_type": "code",
   "execution_count": null,
   "metadata": {
    "collapsed": false
   },
   "outputs": [],
   "source": [
    "A, B, C, D = sys.ss\n",
    "\n",
    "P = nengolib.signal.control_gram(sys)\n",
    "assert np.allclose(np.dot(A, P) + np.dot(P, A.T), -np.dot(B, B.T))\n",
    "\n",
    "Q = nengolib.signal.observe_gram(sys)\n",
    "assert np.allclose(np.dot(A.T, Q) + np.dot(Q, A), -np.dot(C.T, C))"
   ]
  },
  {
   "cell_type": "markdown",
   "metadata": {},
   "source": [
    "The algorithm from [3] computes the lower cholesky factorization of $P \\, ( = RR')$, and the singular value decomposition of $R'QR$."
   ]
  },
  {
   "cell_type": "code",
   "execution_count": null,
   "metadata": {
    "collapsed": false
   },
   "outputs": [],
   "source": [
    "R = cholesky(P, lower=True)\n",
    "assert np.allclose(P, np.dot(R, R.T))\n",
    "\n",
    "M = np.dot(np.dot(R.T, Q), R)\n",
    "U, S, V = svd(M)  # note: squared\n",
    "\n",
    "T = np.dot(R, U) * S ** (-1. / 2)"
   ]
  },
  {
   "cell_type": "markdown",
   "metadata": {},
   "source": [
    "This gives the similarity transform [4] that maps the state to the \"balanced realization\" of the same order. This system is equivalent up to a change of basis $T$ in the state-space."
   ]
  },
  {
   "cell_type": "code",
   "execution_count": null,
   "metadata": {
    "collapsed": false
   },
   "outputs": [],
   "source": [
    "TA, TB, TC, TD = nengolib.signal.similarity_transform(A, B, C, D, T)\n",
    "assert nengolib.signal.sys_equal(sys, (TA, TB, TC, TD))"
   ]
  },
  {
   "cell_type": "markdown",
   "metadata": {},
   "source": [
    "And the reason we do this is because the singular values reflect a measure of importance for each of the states in the new realization. The order should then be reduced by removing the least important states."
   ]
  },
  {
   "cell_type": "code",
   "execution_count": null,
   "metadata": {
    "collapsed": false
   },
   "outputs": [],
   "source": [
    "pylab.figure()\n",
    "pylab.scatter(range(len(S)), S)\n",
    "pylab.show()"
   ]
  },
  {
   "cell_type": "markdown",
   "metadata": {},
   "source": [
    "The short-cut to do the above procedure in `nengolib` is the function `balreal`:"
   ]
  },
  {
   "cell_type": "code",
   "execution_count": null,
   "metadata": {
    "collapsed": true
   },
   "outputs": [],
   "source": [
    "sys_check, S_check = nengolib.signal.balreal(sys)\n",
    "\n",
    "assert np.allclose(TA, sys_check.ss[0])\n",
    "assert np.allclose(TB, sys_check.ss[1])\n",
    "assert np.allclose(TC, sys_check.ss[2])\n",
    "assert np.allclose(TD, sys_check.ss[3])\n",
    "assert np.allclose(S, S_check)"
   ]
  },
  {
   "cell_type": "markdown",
   "metadata": {},
   "source": [
    "### Approximate Model Order Reduction\n",
    "\n",
    "Low singular values indicate states are less important. The method in [5] can be used to remove these states while matching the DC gain for continuous or discrete systems."
   ]
  },
  {
   "cell_type": "code",
   "execution_count": null,
   "metadata": {
    "collapsed": false
   },
   "outputs": [],
   "source": [
    "redsys = nengolib.signal.modred((TA, TB, TC, TD), 0, method='dc')\n",
    "assert redsys.order_den == 1"
   ]
  },
  {
   "cell_type": "code",
   "execution_count": null,
   "metadata": {
    "collapsed": false
   },
   "outputs": [],
   "source": [
    "step = np.zeros(300)\n",
    "step[50:] = 1.0\n",
    "test_sys(step, redsys)\n",
    "test_sys(white, redsys)"
   ]
  },
  {
   "cell_type": "markdown",
   "metadata": {},
   "source": [
    "However, this doesn't work very well for matching the response of the system given white-noise input. If we care less about the steady-state response, then it is much more accurate to simply delete the less important states."
   ]
  },
  {
   "cell_type": "code",
   "execution_count": null,
   "metadata": {
    "collapsed": false
   },
   "outputs": [],
   "source": [
    "delsys = nengolib.signal.modred((TA, TB, TC, TD), 0, method='del')\n",
    "test_sys(white, delsys)"
   ]
  },
  {
   "cell_type": "markdown",
   "metadata": {},
   "source": [
    "The combination of `balreal` and `modred` can be executed together by calling `nengolib.signal.balred` with a desired order and method."
   ]
  },
  {
   "cell_type": "markdown",
   "metadata": {},
   "source": [
    "### References\n",
    "\n",
    "[1] http://www.mathworks.com/help/control/ref/minreal.html\n",
    "\n",
    "[2] https://en.wikibooks.org/wiki/Control_Systems/Controllability_and_Observability\n",
    "\n",
    "[3] https://people.kth.se/~hsan/modred_files/L4.pdf\n",
    "\n",
    "[4] http://www.mathworks.com/help/control/ref/balreal.html\n",
    "\n",
    "[5] http://www.mathworks.com/help/control/ref/modred.html"
   ]
  },
  {
   "cell_type": "code",
   "execution_count": null,
   "metadata": {
    "collapsed": true
   },
   "outputs": [],
   "source": []
  }
 ],
 "metadata": {
  "kernelspec": {
   "display_name": "Python 2",
   "language": "python",
   "name": "python2"
  },
  "language_info": {
   "codemirror_mode": {
    "name": "ipython",
    "version": 2
   },
   "file_extension": ".py",
   "mimetype": "text/x-python",
   "name": "python",
   "nbconvert_exporter": "python",
   "pygments_lexer": "ipython2",
   "version": "2.7.3"
  }
 },
 "nbformat": 4,
 "nbformat_minor": 0
}
