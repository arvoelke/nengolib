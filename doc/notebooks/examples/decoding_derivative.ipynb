{
 "cells": [
  {
   "cell_type": "markdown",
   "metadata": {},
   "source": [
    "# Differentiation using Heterogeneous Synapses\n",
    "\n",
    "The following model shows how to solve for the decoders over time to compute functions that depend on past inputs (i.e. a filter). To do this accurately in some cases, without principle 3, it becomes necessary to introduce heterogeneous synapses, so that each neuron's \"augmented encoder\" will extract different \"temporal features\" from the input."
   ]
  },
  {
   "cell_type": "code",
   "execution_count": null,
   "metadata": {
    "collapsed": false
   },
   "outputs": [],
   "source": [
    "%pylab inline\n",
    "import pylab\n",
    "try:\n",
    "    import seaborn as sns  # optional; prettier graphs\n",
    "except ImportError:\n",
    "    pass\n",
    "\n",
    "import numpy as np\n",
    "import nengo\n",
    "import nengolib\n",
    "\n",
    "\n",
    "def make_model(synapses, encoders, decoders, n_neurons, tau_derivative,\n",
    "               seed, stim_seed, dt, T, stim_cutoff_freq=15, stim_rms=0.5,\n",
    "               neuron_type=nengo.LIF()):\n",
    "\n",
    "    with nengolib.Network(seed=seed) as model:\n",
    "\n",
    "        # White noise input\n",
    "        stim = nengo.Node(output=nengo.processes.WhiteSignal(\n",
    "            T, high=stim_cutoff_freq, rms=stim_rms, seed=stim_seed))\n",
    "\n",
    "        # Heterogeneous synapses (one per neuron)\n",
    "        x_synapses = nengo.Node(\n",
    "            size_in=1, output=nengolib.HeteroSynapse(synapses, dt=dt))\n",
    "\n",
    "        # Ensemble that encodes the signal\n",
    "        x = nengo.Ensemble(\n",
    "            n_neurons, 1, encoders=encoders, neuron_type=neuron_type)\n",
    "        \n",
    "        # Optional decoding (linear readout)\n",
    "        if decoders is None:\n",
    "            decoders = np.zeros((n_neurons, 1))\n",
    "        y = nengo.Node(size_in=1)\n",
    "\n",
    "        # Connections\n",
    "        nengo.Connection(stim, x_synapses, synapse=None)\n",
    "        nengo.Connection(x_synapses, x.neurons,\n",
    "                         function=lambda x: x*encoders[:, 0], synapse=None)\n",
    "        nengo.Connection(x.neurons, y, transform=decoders.T,\n",
    "                         synapse=tau_derivative)\n",
    "\n",
    "        # Probes\n",
    "        p_input = nengo.Probe(stim, synapse=None)\n",
    "        #p_synapses = nengo.Probe(x_synapses, synapse=tau_derivative)\n",
    "        p_x = nengo.Probe(x.neurons, synapse=tau_derivative)\n",
    "        p_y = nengo.Probe(y, synapse=None)\n",
    "\n",
    "        return model, (p_input, p_x, p_y)"
   ]
  },
  {
   "cell_type": "code",
   "execution_count": null,
   "metadata": {
    "collapsed": true
   },
   "outputs": [],
   "source": [
    "n_neurons = 1000\n",
    "tau_derivative = 0.005\n",
    "\n",
    "seed = 0\n",
    "rng = np.random.RandomState(seed)\n",
    "\n",
    "taus = rng.uniform(0.0005, 0.01, size=n_neurons)  # encoding filters\n",
    "synapses = [nengolib.Lowpass(tau) for tau in taus]\n",
    "encoders = nengolib.stats.sphere.sample(n_neurons, rng=rng)"
   ]
  },
  {
   "cell_type": "markdown",
   "metadata": {},
   "source": [
    "We will approximate the filter $H(s) = 2\\tau s / (\\tau s + 1)$. This is the derivative $s$ multiplied by a lowpass $1 / (\\tau s + 1)$ (to make it causal) and scaled by $2\\tau$ (for normalization)."
   ]
  },
  {
   "cell_type": "code",
   "execution_count": null,
   "metadata": {
    "collapsed": false
   },
   "outputs": [],
   "source": [
    "H = 2 * nengolib.synapses.Highpass(tau_derivative)\n",
    "\n",
    "h_size = 1000\n",
    "h_dt = 0.001\n",
    "freqs = np.fft.rfftfreq(h_size, d=h_dt)\n",
    "desired = nengolib.signal.impulse(H, h_dt, h_size)\n",
    "\n",
    "pylab.figure()\n",
    "pylab.title(\"Derivative Filter (Fourier Domain)\")\n",
    "pylab.plot(freqs, abs(np.fft.rfft(desired)), label=\"Desired\")\n",
    "pylab.xlabel(\"Frequency ($Hz$)\")\n",
    "#pylab.legend(loc='center right')\n",
    "pylab.show()"
   ]
  },
  {
   "cell_type": "markdown",
   "metadata": {},
   "source": [
    "### Training\n",
    "\n",
    "To solve for the decoders, we first simulate the network on a $15\\,Hz$ training signal and collect the spike data filtered by $\\tau$. Then use a decoder solver (e.g. LstsqL2) where the target points are $y = (x \\ast h)(t)$ given the filtered spikes $x$."
   ]
  },
  {
   "cell_type": "code",
   "execution_count": null,
   "metadata": {
    "collapsed": false
   },
   "outputs": [],
   "source": [
    "dt = 0.0002\n",
    "T = 1.0\n",
    "\n",
    "model, (p_input, p_x, p_y) = make_model(\n",
    "    synapses, encoders, decoders=None, n_neurons=n_neurons,\n",
    "    tau_derivative=tau_derivative, seed=seed, stim_seed=0, dt=dt, T=T)\n",
    "sim = nengo.Simulator(model, dt=dt)\n",
    "sim.run(T, progress_bar=False)"
   ]
  },
  {
   "cell_type": "code",
   "execution_count": null,
   "metadata": {
    "collapsed": false
   },
   "outputs": [],
   "source": [
    "# AD = Y\n",
    "X = sim.data[p_input]\n",
    "A = sim.data[p_x]\n",
    "Y = H.filt(X, dt=dt)\n",
    "decoders, info = nengo.solvers.LstsqL2()(A, Y)\n",
    "Y_hat = np.dot(A, decoders)\n",
    "\n",
    "\n",
    "gamma = np.dot(A.T, A)\n",
    "U, S, V = np.linalg.svd(gamma)\n",
    "chi = np.dot(A, U)\n",
    "pylab.figure(figsize=(12, 7))\n",
    "pylab.title(\"SVD of Gamma Matrix\")\n",
    "pylab.plot(sim.trange(), X, label=\"Input\")\n",
    "for i in range(3):\n",
    "    pylab.plot(sim.trange(), chi[:, i] / len(chi), label=r\"$\\chi_%d$\" % i)\n",
    "pylab.legend(loc='best')\n",
    "pylab.show()\n",
    "\n",
    "\n",
    "def plot_signals(X, Y, Y_hat, offset=100):\n",
    "    pylab.figure(figsize=(12, 7))\n",
    "    pylab.title(\"Derivative of Signal (RMSE: %.3f)\" % nengo.utils.numpy.rmse(Y, Y_hat))    \n",
    "    pylab.plot(sim.trange()[offset:], X[offset:], label=\"Input\")\n",
    "    pylab.plot(sim.trange()[offset:], Y[offset:], label=\"Ideal\")\n",
    "    pylab.plot(sim.trange()[offset:], Y_hat[offset:], label=\"Approximation\")\n",
    "    pylab.legend(loc='best')\n",
    "    pylab.xlabel(\"Time ($s$)\")\n",
    "    #pylab.ylim(-1, 1)\n",
    "    pylab.show()\n",
    "    \n",
    "plot_signals(X, Y, Y_hat)"
   ]
  },
  {
   "cell_type": "markdown",
   "metadata": {},
   "source": [
    "### Validation\n",
    "\n",
    "Now we demonstrate that these same decoders generalize to other signals, even at a different frequency (e.g. $10\\,Hz$)!"
   ]
  },
  {
   "cell_type": "code",
   "execution_count": null,
   "metadata": {
    "collapsed": false
   },
   "outputs": [],
   "source": [
    "model, (p_input, p_x, p_y) = make_model(\n",
    "    synapses, encoders, decoders=decoders, n_neurons=n_neurons,\n",
    "    tau_derivative=tau_derivative, seed=seed, stim_seed=1, dt=dt, T=T,\n",
    "    stim_cutoff_freq=10)\n",
    "sim = nengo.Simulator(model, dt=dt)\n",
    "sim.run(T, progress_bar=False)"
   ]
  },
  {
   "cell_type": "code",
   "execution_count": null,
   "metadata": {
    "collapsed": false
   },
   "outputs": [],
   "source": [
    "X = sim.data[p_input]\n",
    "Y = nengolib.signal.apply_filter(H, dt, X, axis=0)\n",
    "Y_hat = sim.data[p_y]\n",
    "\n",
    "plot_signals(X, Y, Y_hat)"
   ]
  },
  {
   "cell_type": "markdown",
   "metadata": {},
   "source": [
    "Lastly it is natural to wonder how crucial it is to have heterogeneous synapses. We can answer that question by repeating this with a number of different sampling widths, i.e. $\\tau \\sim \\mathcal{U}[L, L + width]$ for various $width$ parameters."
   ]
  },
  {
   "cell_type": "code",
   "execution_count": null,
   "metadata": {
    "collapsed": false
   },
   "outputs": [],
   "source": [
    "num_samples = 5\n",
    "plot_x = []\n",
    "plot_y = []\n",
    "T = 1\n",
    "\n",
    "for width in np.linspace(0, 0.03, num_samples):\n",
    "    L, U = 0.0005, 0.0005 + width\n",
    "\n",
    "    rng = np.random.RandomState(seed)\n",
    "    taus = rng.uniform(L, U, size=n_neurons)\n",
    "    synapses = [nengolib.Lowpass(tau) for tau in taus]\n",
    "\n",
    "    model, (p_input, p_x, p_y) = make_model(\n",
    "        synapses, encoders, decoders=None, n_neurons=n_neurons,\n",
    "        tau_derivative=tau_derivative, seed=seed, stim_seed=0, dt=dt, T=T)\n",
    "    sim = nengo.Simulator(model, dt=dt)\n",
    "    sim.run(T, progress_bar=False)\n",
    "\n",
    "    X = sim.data[p_input]\n",
    "    A = sim.data[p_x]\n",
    "    Y = H.filt(X, dt=dt)\n",
    "    decoders, info = nengo.solvers.LstsqL2()(A, Y)\n",
    "    Y_hat = np.dot(A, decoders)\n",
    "\n",
    "    plot_x.append(width)\n",
    "    plot_y.append(nengo.utils.numpy.rmse(Y, Y_hat))"
   ]
  },
  {
   "cell_type": "code",
   "execution_count": null,
   "metadata": {
    "collapsed": false
   },
   "outputs": [],
   "source": [
    "from scipy.optimize import curve_fit\n",
    "\n",
    "def fit(x, a, b, c, d, e):\n",
    "    return a*np.exp(-b*x) + c*np.exp(-d*x) + e\n",
    "\n",
    "popt, pcov = curve_fit(fit, plot_x, plot_y, bounds=(0, [1., 10000., 1., 10000., 1.]))"
   ]
  },
  {
   "cell_type": "code",
   "execution_count": null,
   "metadata": {
    "collapsed": false
   },
   "outputs": [],
   "source": [
    "pylab.figure()\n",
    "pylab.title(\"Effect of Increasing Heterogeneity\")\n",
    "pylab.plot(plot_x, plot_y)\n",
    "#pylab.plot(plot_x, fit(np.asarray(plot_x), *popt), color='green', linewidth=1, alpha=0.8)\n",
    "pylab.xlabel(r\"$\\tau$ width ($ms$)\")\n",
    "pylab.ylabel(\"RMSE\")\n",
    "pylab.show()"
   ]
  },
  {
   "cell_type": "code",
   "execution_count": null,
   "metadata": {
    "collapsed": true
   },
   "outputs": [],
   "source": []
  }
 ],
 "metadata": {
  "kernelspec": {
   "display_name": "Python 2",
   "language": "python",
   "name": "python2"
  },
  "language_info": {
   "codemirror_mode": {
    "name": "ipython",
    "version": 2
   },
   "file_extension": ".py",
   "mimetype": "text/x-python",
   "name": "python",
   "nbconvert_exporter": "python",
   "pygments_lexer": "ipython2",
   "version": "2.7.3"
  }
 },
 "nbformat": 4,
 "nbformat_minor": 0
}
