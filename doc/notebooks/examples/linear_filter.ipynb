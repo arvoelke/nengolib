{
 "cells": [
  {
   "cell_type": "markdown",
   "metadata": {},
   "source": [
    "# Linear Filter Improvements\n",
    "\n",
    "The class **`nengolib.LinearFilter()`** is an improved implementation of, and a drop-in replacement for, **`nengo.LinearFilter()`**. This `Synapse` object is much more efficient when the order of the transfer function is greater than 2."
   ]
  },
  {
   "cell_type": "code",
   "execution_count": null,
   "metadata": {
    "collapsed": true
   },
   "outputs": [],
   "source": [
    "import numpy as np\n",
    "\n",
    "import nengo\n",
    "import nengolib\n",
    "\n",
    "def make_runner(synapse, n_neurons, dims, t):\n",
    "    with nengolib.Network() as model:\n",
    "        stim = nengo.Node(output=lambda t: np.sin(t*np.ones(dims)))\n",
    "        x = nengo.Ensemble(n_neurons, dims)\n",
    "        nengo.Connection(stim, x, synapse=synapse)\n",
    "        sim = nengo.Simulator(model)\n",
    "        return lambda: sim.run(t, progress_bar=False)"
   ]
  },
  {
   "cell_type": "markdown",
   "metadata": {},
   "source": [
    "The following test compares both implementations when connecting a node to a 2D-ensemble of 100 neurons using a 10th order synapse. We see that the overall runtime of a simulation can be significantly reduced with this change in synapse object."
   ]
  },
  {
   "cell_type": "code",
   "execution_count": null,
   "metadata": {
    "collapsed": false
   },
   "outputs": [],
   "source": [
    "from timeit import Timer\n",
    "\n",
    "order = 10\n",
    "n_neurons = 100\n",
    "dims = 2\n",
    "t = 0.05\n",
    "trials = 500\n",
    "\n",
    "for module in (nengo, nengolib):\n",
    "    x = np.zeros(order)\n",
    "    x[0] = 1.0\n",
    "    synapse = module.LinearFilter(x, x)\n",
    "    stmt = make_runner(synapse, n_neurons, dims, t)\n",
    "    print module.__name__, Timer(stmt).timeit(trials)"
   ]
  },
  {
   "cell_type": "code",
   "execution_count": null,
   "metadata": {
    "collapsed": true
   },
   "outputs": [],
   "source": []
  }
 ],
 "metadata": {
  "kernelspec": {
   "display_name": "Python 2",
   "language": "python",
   "name": "python2"
  },
  "language_info": {
   "codemirror_mode": {
    "name": "ipython",
    "version": 2
   },
   "file_extension": ".py",
   "mimetype": "text/x-python",
   "name": "python",
   "nbconvert_exporter": "python",
   "pygments_lexer": "ipython2",
   "version": "2.7.3"
  }
 },
 "nbformat": 4,
 "nbformat_minor": 0
}
